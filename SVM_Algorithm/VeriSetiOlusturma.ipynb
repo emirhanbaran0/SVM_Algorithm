{
 "cells": [
  {
   "cell_type": "code",
   "execution_count": 61,
   "id": "5b13fbaa-4b64-4da7-9831-d3c3d04de16a",
   "metadata": {},
   "outputs": [
    {
     "name": "stdout",
     "output_type": "stream",
     "text": [
      "      Weight      Size   Class\n",
      "0  67.211288  2.506327   apple\n",
      "1  64.350316  3.260494  orange\n",
      "2  67.536063 -0.165465  orange\n",
      "3  72.711002  1.859991   apple\n",
      "4  68.935048  9.172315  orange\n"
     ]
    }
   ],
   "source": [
    "import pandas as pd\n",
    "import numpy as np\n",
    "\n",
    "# Belirtilen örnekler\n",
    "orange_example = {'Weight': 65, 'Size': 4.34, 'Class': 'orange'}\n",
    "apple_example = {'Weight': 73, 'Size': 5.17, 'Class': 'apple'}\n",
    "\n",
    "# Örnek sayısı\n",
    "num_samples = 400\n",
    "\n",
    "# Veri setini oluşturma\n",
    "data = []\n",
    "\n",
    "# 'orange' sınıfı için normal dağılımı değiştirme\n",
    "orange_weight_mean = 66\n",
    "orange_weight_std = 1.9\n",
    "orange_size_mean = 4.5\n",
    "orange_size_std = 2.7\n",
    "\n",
    "# 'apple' sınıfı için normal dağılımı değiştirme\n",
    "apple_weight_mean = 72\n",
    "apple_weight_std = 2.4\n",
    "apple_size_mean = 6.0\n",
    "apple_size_std = 3.1\n",
    "\n",
    "for _ in range(num_samples):\n",
    "    if np.random.rand() < 0.5:\n",
    "        # 'orange' sınıfından örnek ekle\n",
    "        sample = {\n",
    "            'Weight': np.random.normal(orange_weight_mean, orange_weight_std),\n",
    "            'Size': np.random.normal(orange_size_mean, orange_size_std),\n",
    "            'Class': 'orange'\n",
    "        }\n",
    "    else:\n",
    "        # 'apple' sınıfından örnek ekle\n",
    "        sample = {\n",
    "            'Weight': np.random.normal(apple_weight_mean, apple_weight_std),\n",
    "            'Size': np.random.normal(apple_size_mean, apple_size_std),\n",
    "            'Class': 'apple'\n",
    "        }\n",
    "    data.append(sample)\n",
    "\n",
    "\n",
    "# Veri setini DataFrame'e çevirme\n",
    "df = pd.DataFrame(data)\n",
    "\n",
    "# Elde edilen veri setini gösterme\n",
    "print(df.head())\n"
   ]
  },
  {
   "cell_type": "code",
   "execution_count": 62,
   "id": "262942ae-12b2-4360-bec4-3d9a19ea4ea6",
   "metadata": {},
   "outputs": [
    {
     "name": "stdout",
     "output_type": "stream",
     "text": [
      "CSV dosyası başarıyla oluşturuldu: veriSeti2.csv\n"
     ]
    }
   ],
   "source": [
    "# DataFrame'i CSV dosyasına dönüştürün\n",
    "csv_file_path = 'veriSeti2.csv'\n",
    "df.to_csv(csv_file_path, index=False)\n",
    "\n",
    "print(f\"CSV dosyası başarıyla oluşturuldu: {csv_file_path}\")"
   ]
  },
  {
   "cell_type": "code",
   "execution_count": null,
   "id": "65889fc0-9b37-4579-aaad-71c29ad6f330",
   "metadata": {},
   "outputs": [],
   "source": []
  }
 ],
 "metadata": {
  "kernelspec": {
   "display_name": "Python 3 (ipykernel)",
   "language": "python",
   "name": "python3"
  },
  "language_info": {
   "codemirror_mode": {
    "name": "ipython",
    "version": 3
   },
   "file_extension": ".py",
   "mimetype": "text/x-python",
   "name": "python",
   "nbconvert_exporter": "python",
   "pygments_lexer": "ipython3",
   "version": "3.11.5"
  }
 },
 "nbformat": 4,
 "nbformat_minor": 5
}
